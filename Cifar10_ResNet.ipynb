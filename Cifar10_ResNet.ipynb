{
  "nbformat": 4,
  "nbformat_minor": 0,
  "metadata": {
    "colab": {
      "name": "Cifar10-ResNet.ipynb",
      "provenance": [],
      "collapsed_sections": []
    },
    "kernelspec": {
      "name": "python3",
      "display_name": "Python 3"
    },
    "accelerator": "GPU"
  },
  "cells": [
    {
      "cell_type": "markdown",
      "metadata": {
        "id": "coi89b1slx8U"
      },
      "source": [
        "# Introduction\n",
        "\n",
        "This project tries to implement the ResNet architecture with 2,3 skip connections. Here we try to verify the statement from 'Deep Residual Learning for Image Recognition' which states that the learning is better with 2 skip connections rather than 3.\n"
      ]
    },
    {
      "cell_type": "markdown",
      "metadata": {
        "id": "wWya3qsFgGeP"
      },
      "source": [
        "# Packages\n",
        "Loading the neccessary packages\n"
      ]
    },
    {
      "cell_type": "code",
      "metadata": {
        "id": "3TrohmjGYQ1O",
        "colab": {
          "base_uri": "https://localhost:8080/"
        },
        "outputId": "7cbb4e6c-5865-4fb1-850d-1df947ba00df"
      },
      "source": [
        "!pip install pyyaml h5py "
      ],
      "execution_count": null,
      "outputs": [
        {
          "output_type": "stream",
          "text": [
            "Requirement already satisfied: pyyaml in /usr/local/lib/python3.6/dist-packages (3.13)\n",
            "Requirement already satisfied: h5py in /usr/local/lib/python3.6/dist-packages (2.10.0)\n",
            "Requirement already satisfied: six in /usr/local/lib/python3.6/dist-packages (from h5py) (1.15.0)\n",
            "Requirement already satisfied: numpy>=1.7 in /usr/local/lib/python3.6/dist-packages (from h5py) (1.19.5)\n"
          ],
          "name": "stdout"
        }
      ]
    },
    {
      "cell_type": "code",
      "metadata": {
        "id": "kO4k_U_8vvCT"
      },
      "source": [
        "import numpy as np\n",
        "import pandas as pd\n",
        "import cv2\n",
        "import keras\n",
        "import tensorflow as tf\n",
        "import matplotlib.pyplot as plt\n",
        "from keras import layers\n",
        "from keras.layers import Input, Add, Dense, Activation, ZeroPadding2D, BatchNormalization, Flatten, Conv2D, AveragePooling2D, MaxPooling2D, GlobalMaxPooling2D\n",
        "from keras.models import Model, load_model\n",
        "from keras.preprocessing import image\n",
        "from keras.utils import layer_utils\n",
        "from keras.preprocessing.image import ImageDataGenerator\n",
        "from keras.initializers import glorot_uniform\n",
        "%matplotlib inline\n",
        "import os"
      ],
      "execution_count": null,
      "outputs": []
    },
    {
      "cell_type": "markdown",
      "metadata": {
        "id": "jydiic_7gCDa"
      },
      "source": [
        "# Index Block\n",
        "\n",
        "It is the main block of the ResNet architecture. The index block is used in the architecture where there is no change in the input shape and hence forms the major chunk of ResNet. The index block has 2 paths, main and the shortcut path. The main path follows a normal or a general path where the layers are stacked one after the another. The shortcut path is ued to carry the information learnt by the model upto a point and is carried over to a layer which is 2 layers deeper in the model.  "
      ]
    },
    {
      "cell_type": "code",
      "metadata": {
        "id": "FDFLU4IZvzG8"
      },
      "source": [
        "def index_block(x, f, filters, level, layer):\n",
        "    \n",
        "    con_name = str('res' + str(level) + str(layer)) \n",
        "    bnz_name = str('bn' + str(level) + str(layer)) \n",
        "    \n",
        "    F1, F2, F3 = filters\n",
        "    \n",
        "    x_shortcut = x\n",
        "    \n",
        "    x = Conv2D(filters = F1, kernel_size = (1, 1), strides = (1,1), padding = 'valid', name = con_name + '2a', kernel_initializer = glorot_uniform(seed=0))(x)\n",
        "    x = BatchNormalization(axis = 3, name = bnz_name + '2a')(x)\n",
        "    x = Activation('relu')(x)\n",
        "\n",
        "    x = Conv2D(filters = F2, kernel_size = (f, f), strides = (1,1), padding = 'same', name = con_name + '2b', kernel_initializer = glorot_uniform(seed=0))(x)\n",
        "    x = BatchNormalization(axis = 3, name = bnz_name + '2b')(x)\n",
        "    x = Activation('relu')(x)\n",
        "\n",
        "    x = Conv2D(filters = F3, kernel_size = (1, 1), strides = (1,1), padding = 'valid', name = con_name + '2c', kernel_initializer = glorot_uniform(seed=0))(x)\n",
        "    x = BatchNormalization(axis = 3, name = bnz_name + '2c')(x)\n",
        "\n",
        "    x = Add()([x, x_shortcut])\n",
        "    x = Activation('relu')(x)\n",
        "    \n",
        "    return x"
      ],
      "execution_count": null,
      "outputs": []
    },
    {
      "cell_type": "markdown",
      "metadata": {
        "id": "zuI78qQxns14"
      },
      "source": [
        "# Con Block\n",
        "Con or the convolutional block is the other block which is required to change the sizes of the input shape following the ResNet architecture. Similar to the index block, it has the main and shortcut path's too. The difference is that the shortcut path here has a convolutional layer which changes the size of the input shape to the next layer.\n"
      ]
    },
    {
      "cell_type": "code",
      "metadata": {
        "id": "Uy82rTEMv53I"
      },
      "source": [
        "def con_block(x, f, filters, level, layer, s = 2):\n",
        "\n",
        "    con_name = str('res' + str(level) + str(layer))\n",
        "    bnz_name = str('bn' + str(level) + str(layer))\n",
        "    \n",
        "    F1, F2, F3 = filters\n",
        "    \n",
        "    x_shortcut = x\n",
        "\n",
        "    x = Conv2D(F1, (1, 1), strides = (s,s), name = con_name + '2a', kernel_initializer = glorot_uniform(seed=0))(x)\n",
        "    x = BatchNormalization(axis = 3, name = bnz_name + '2a')(x)\n",
        "    x = Activation('relu')(x)\n",
        "\n",
        "    x = Conv2D(filters = F2, kernel_size = (f, f), strides = (1,1), padding = 'same', name = con_name + '2b', kernel_initializer = glorot_uniform(seed=0))(x)\n",
        "    x = BatchNormalization(axis = 3, name = bnz_name + '2b')(x)\n",
        "    x = Activation('relu')(x)\n",
        "\n",
        "    x = Conv2D(filters = F3, kernel_size = (1, 1), strides = (1,1), padding = 'valid', name = con_name + '2c', kernel_initializer = glorot_uniform(seed=0))(x)\n",
        "    x = BatchNormalization(axis = 3, name = bnz_name + '2c')(x)\n",
        "\n",
        "    x_shortcut = Conv2D(filters = F3, kernel_size = (1, 1), strides = (s,s), padding = 'valid', name = con_name + '1',\n",
        "                        kernel_initializer = glorot_uniform(seed=0))(x_shortcut)\n",
        "    x_shortcut = BatchNormalization(axis = 3, name = bnz_name + '1')(x_shortcut)\n",
        "\n",
        "    x = Add()([x, x_shortcut])\n",
        "    x = Activation('relu')(x)\n",
        "    \n",
        "    return x"
      ],
      "execution_count": null,
      "outputs": []
    },
    {
      "cell_type": "markdown",
      "metadata": {
        "id": "P00RtDiJprha"
      },
      "source": [
        "# ResNet1\n",
        "\n",
        "This defines the architecture of the model with 2 skip connections in the convolutional as well as the index blocks and combined together has a 50 layer deep convolutional neural network.\n"
      ]
    },
    {
      "cell_type": "code",
      "metadata": {
        "id": "DvuvZsuav8mN"
      },
      "source": [
        "def ResNet1(input_shape=(64, 64, 3), classes=6):\n",
        "    \n",
        "    x_input = Input(input_shape)\n",
        "\n",
        "    x = ZeroPadding2D((3, 3))(x_input)\n",
        "\n",
        "    x = Conv2D(64, (7, 7), strides=(2, 2), name='conv1', kernel_initializer=glorot_uniform(seed=0))(x)\n",
        "    x = BatchNormalization(axis=3, name='bn_conv1')(x)\n",
        "    x = Activation('relu')(x)\n",
        "    x = MaxPooling2D((3, 3), strides=(2, 2))(x)\n",
        "\n",
        "    x = con_block(x, f=3, filters=[64, 64, 256], layer=2, level='a', s=1)\n",
        "    x = index_block(x, 3, [64, 64, 256], layer=2, level='b')\n",
        "    x = index_block(x, 3, [64, 64, 256], layer=2, level='c')\n",
        "\n",
        "    x = con_block(x, f = 3, filters = [128, 128, 512], layer = 3, level='a', s = 2)\n",
        "    x = index_block(x, 3, [128, 128, 512], layer=3, level='b')\n",
        "    x = index_block(x, 3, [128, 128, 512], layer=3, level='c')\n",
        "    x = index_block(x, 3, [128, 128, 512], layer=3, level='d')\n",
        "\n",
        "    x = con_block(x, f = 3, filters = [256, 256, 1024], layer = 4, level='a', s = 2)\n",
        "    x = index_block(x, 3, [256, 256, 1024], level=4, layer='b')\n",
        "    x = index_block(x, 3, [256, 256, 1024], level=4, layer='c')\n",
        "    x = index_block(x, 3, [256, 256, 1024], level=4, layer='d')\n",
        "    x = index_block(x, 3, [256, 256, 1024], level=4, layer='e')\n",
        "    x = index_block(x, 3, [256, 256, 1024], level=4, layer='f')\n",
        "\n",
        "    x = con_block(x, f = 3, filters = [512, 512, 2048], level = 5, layer='a', s = 2)\n",
        "    x = index_block(x, 3, [512, 512, 2048], level=5, layer='b')\n",
        "    x = index_block(x, 3, [512, 512, 2048], level=5, layer='c')\n",
        "\n",
        "    x = AveragePooling2D((2,2), name=\"avg_pool\")(x)\n",
        "\n",
        "    x = Flatten()(x)\n",
        "    x = Dense(classes, activation='softmax', name='fc' + str(classes), kernel_initializer = glorot_uniform(seed=0))(x)\n",
        "    \n",
        "    model = Model(inputs = x_input, outputs = x, name='ResNet50')\n",
        "\n",
        "    return model"
      ],
      "execution_count": null,
      "outputs": []
    },
    {
      "cell_type": "markdown",
      "metadata": {
        "id": "t3TvqnBftYd5"
      },
      "source": [
        "# Compiling\n",
        "\n",
        "Compiling the model with adam optimizer and using categorical_crossentropy for loss. Accuracy is the metric used to evaluate the model."
      ]
    },
    {
      "cell_type": "code",
      "metadata": {
        "id": "YoETuiXXv_Lu"
      },
      "source": [
        "model = ResNet1(input_shape = (64, 64, 3), classes = 10)\n",
        "model.compile(optimizer='adam', loss='categorical_crossentropy', metrics=['accuracy'])"
      ],
      "execution_count": null,
      "outputs": []
    },
    {
      "cell_type": "code",
      "metadata": {
        "id": "MDAlZByqYFKW",
        "colab": {
          "base_uri": "https://localhost:8080/"
        },
        "outputId": "bd98af19-e81f-4841-e2e4-93e701ab7d35"
      },
      "source": [
        "model.summary()"
      ],
      "execution_count": null,
      "outputs": [
        {
          "output_type": "stream",
          "text": [
            "Model: \"ResNet50\"\n",
            "__________________________________________________________________________________________________\n",
            "Layer (type)                    Output Shape         Param #     Connected to                     \n",
            "==================================================================================================\n",
            "input_1 (InputLayer)            [(None, 64, 64, 3)]  0                                            \n",
            "__________________________________________________________________________________________________\n",
            "zero_padding2d (ZeroPadding2D)  (None, 70, 70, 3)    0           input_1[0][0]                    \n",
            "__________________________________________________________________________________________________\n",
            "conv1 (Conv2D)                  (None, 32, 32, 64)   9472        zero_padding2d[0][0]             \n",
            "__________________________________________________________________________________________________\n",
            "bn_conv1 (BatchNormalization)   (None, 32, 32, 64)   256         conv1[0][0]                      \n",
            "__________________________________________________________________________________________________\n",
            "activation (Activation)         (None, 32, 32, 64)   0           bn_conv1[0][0]                   \n",
            "__________________________________________________________________________________________________\n",
            "max_pooling2d (MaxPooling2D)    (None, 15, 15, 64)   0           activation[0][0]                 \n",
            "__________________________________________________________________________________________________\n",
            "resa22a (Conv2D)                (None, 15, 15, 64)   4160        max_pooling2d[0][0]              \n",
            "__________________________________________________________________________________________________\n",
            "bna22a (BatchNormalization)     (None, 15, 15, 64)   256         resa22a[0][0]                    \n",
            "__________________________________________________________________________________________________\n",
            "activation_1 (Activation)       (None, 15, 15, 64)   0           bna22a[0][0]                     \n",
            "__________________________________________________________________________________________________\n",
            "resa22b (Conv2D)                (None, 15, 15, 64)   36928       activation_1[0][0]               \n",
            "__________________________________________________________________________________________________\n",
            "bna22b (BatchNormalization)     (None, 15, 15, 64)   256         resa22b[0][0]                    \n",
            "__________________________________________________________________________________________________\n",
            "activation_2 (Activation)       (None, 15, 15, 64)   0           bna22b[0][0]                     \n",
            "__________________________________________________________________________________________________\n",
            "resa22c (Conv2D)                (None, 15, 15, 256)  16640       activation_2[0][0]               \n",
            "__________________________________________________________________________________________________\n",
            "resa21 (Conv2D)                 (None, 15, 15, 256)  16640       max_pooling2d[0][0]              \n",
            "__________________________________________________________________________________________________\n",
            "bna22c (BatchNormalization)     (None, 15, 15, 256)  1024        resa22c[0][0]                    \n",
            "__________________________________________________________________________________________________\n",
            "bna21 (BatchNormalization)      (None, 15, 15, 256)  1024        resa21[0][0]                     \n",
            "__________________________________________________________________________________________________\n",
            "add (Add)                       (None, 15, 15, 256)  0           bna22c[0][0]                     \n",
            "                                                                 bna21[0][0]                      \n",
            "__________________________________________________________________________________________________\n",
            "activation_3 (Activation)       (None, 15, 15, 256)  0           add[0][0]                        \n",
            "__________________________________________________________________________________________________\n",
            "resb22a (Conv2D)                (None, 15, 15, 64)   16448       activation_3[0][0]               \n",
            "__________________________________________________________________________________________________\n",
            "bnb22a (BatchNormalization)     (None, 15, 15, 64)   256         resb22a[0][0]                    \n",
            "__________________________________________________________________________________________________\n",
            "activation_4 (Activation)       (None, 15, 15, 64)   0           bnb22a[0][0]                     \n",
            "__________________________________________________________________________________________________\n",
            "resb22b (Conv2D)                (None, 15, 15, 64)   36928       activation_4[0][0]               \n",
            "__________________________________________________________________________________________________\n",
            "bnb22b (BatchNormalization)     (None, 15, 15, 64)   256         resb22b[0][0]                    \n",
            "__________________________________________________________________________________________________\n",
            "activation_5 (Activation)       (None, 15, 15, 64)   0           bnb22b[0][0]                     \n",
            "__________________________________________________________________________________________________\n",
            "resb22c (Conv2D)                (None, 15, 15, 256)  16640       activation_5[0][0]               \n",
            "__________________________________________________________________________________________________\n",
            "bnb22c (BatchNormalization)     (None, 15, 15, 256)  1024        resb22c[0][0]                    \n",
            "__________________________________________________________________________________________________\n",
            "add_1 (Add)                     (None, 15, 15, 256)  0           bnb22c[0][0]                     \n",
            "                                                                 activation_3[0][0]               \n",
            "__________________________________________________________________________________________________\n",
            "activation_6 (Activation)       (None, 15, 15, 256)  0           add_1[0][0]                      \n",
            "__________________________________________________________________________________________________\n",
            "resc22a (Conv2D)                (None, 15, 15, 64)   16448       activation_6[0][0]               \n",
            "__________________________________________________________________________________________________\n",
            "bnc22a (BatchNormalization)     (None, 15, 15, 64)   256         resc22a[0][0]                    \n",
            "__________________________________________________________________________________________________\n",
            "activation_7 (Activation)       (None, 15, 15, 64)   0           bnc22a[0][0]                     \n",
            "__________________________________________________________________________________________________\n",
            "resc22b (Conv2D)                (None, 15, 15, 64)   36928       activation_7[0][0]               \n",
            "__________________________________________________________________________________________________\n",
            "bnc22b (BatchNormalization)     (None, 15, 15, 64)   256         resc22b[0][0]                    \n",
            "__________________________________________________________________________________________________\n",
            "activation_8 (Activation)       (None, 15, 15, 64)   0           bnc22b[0][0]                     \n",
            "__________________________________________________________________________________________________\n",
            "resc22c (Conv2D)                (None, 15, 15, 256)  16640       activation_8[0][0]               \n",
            "__________________________________________________________________________________________________\n",
            "bnc22c (BatchNormalization)     (None, 15, 15, 256)  1024        resc22c[0][0]                    \n",
            "__________________________________________________________________________________________________\n",
            "add_2 (Add)                     (None, 15, 15, 256)  0           bnc22c[0][0]                     \n",
            "                                                                 activation_6[0][0]               \n",
            "__________________________________________________________________________________________________\n",
            "activation_9 (Activation)       (None, 15, 15, 256)  0           add_2[0][0]                      \n",
            "__________________________________________________________________________________________________\n",
            "resa32a (Conv2D)                (None, 8, 8, 128)    32896       activation_9[0][0]               \n",
            "__________________________________________________________________________________________________\n",
            "bna32a (BatchNormalization)     (None, 8, 8, 128)    512         resa32a[0][0]                    \n",
            "__________________________________________________________________________________________________\n",
            "activation_10 (Activation)      (None, 8, 8, 128)    0           bna32a[0][0]                     \n",
            "__________________________________________________________________________________________________\n",
            "resa32b (Conv2D)                (None, 8, 8, 128)    147584      activation_10[0][0]              \n",
            "__________________________________________________________________________________________________\n",
            "bna32b (BatchNormalization)     (None, 8, 8, 128)    512         resa32b[0][0]                    \n",
            "__________________________________________________________________________________________________\n",
            "activation_11 (Activation)      (None, 8, 8, 128)    0           bna32b[0][0]                     \n",
            "__________________________________________________________________________________________________\n",
            "resa32c (Conv2D)                (None, 8, 8, 512)    66048       activation_11[0][0]              \n",
            "__________________________________________________________________________________________________\n",
            "resa31 (Conv2D)                 (None, 8, 8, 512)    131584      activation_9[0][0]               \n",
            "__________________________________________________________________________________________________\n",
            "bna32c (BatchNormalization)     (None, 8, 8, 512)    2048        resa32c[0][0]                    \n",
            "__________________________________________________________________________________________________\n",
            "bna31 (BatchNormalization)      (None, 8, 8, 512)    2048        resa31[0][0]                     \n",
            "__________________________________________________________________________________________________\n",
            "add_3 (Add)                     (None, 8, 8, 512)    0           bna32c[0][0]                     \n",
            "                                                                 bna31[0][0]                      \n",
            "__________________________________________________________________________________________________\n",
            "activation_12 (Activation)      (None, 8, 8, 512)    0           add_3[0][0]                      \n",
            "__________________________________________________________________________________________________\n",
            "resb32a (Conv2D)                (None, 8, 8, 128)    65664       activation_12[0][0]              \n",
            "__________________________________________________________________________________________________\n",
            "bnb32a (BatchNormalization)     (None, 8, 8, 128)    512         resb32a[0][0]                    \n",
            "__________________________________________________________________________________________________\n",
            "activation_13 (Activation)      (None, 8, 8, 128)    0           bnb32a[0][0]                     \n",
            "__________________________________________________________________________________________________\n",
            "resb32b (Conv2D)                (None, 8, 8, 128)    147584      activation_13[0][0]              \n",
            "__________________________________________________________________________________________________\n",
            "bnb32b (BatchNormalization)     (None, 8, 8, 128)    512         resb32b[0][0]                    \n",
            "__________________________________________________________________________________________________\n",
            "activation_14 (Activation)      (None, 8, 8, 128)    0           bnb32b[0][0]                     \n",
            "__________________________________________________________________________________________________\n",
            "resb32c (Conv2D)                (None, 8, 8, 512)    66048       activation_14[0][0]              \n",
            "__________________________________________________________________________________________________\n",
            "bnb32c (BatchNormalization)     (None, 8, 8, 512)    2048        resb32c[0][0]                    \n",
            "__________________________________________________________________________________________________\n",
            "add_4 (Add)                     (None, 8, 8, 512)    0           bnb32c[0][0]                     \n",
            "                                                                 activation_12[0][0]              \n",
            "__________________________________________________________________________________________________\n",
            "activation_15 (Activation)      (None, 8, 8, 512)    0           add_4[0][0]                      \n",
            "__________________________________________________________________________________________________\n",
            "resc32a (Conv2D)                (None, 8, 8, 128)    65664       activation_15[0][0]              \n",
            "__________________________________________________________________________________________________\n",
            "bnc32a (BatchNormalization)     (None, 8, 8, 128)    512         resc32a[0][0]                    \n",
            "__________________________________________________________________________________________________\n",
            "activation_16 (Activation)      (None, 8, 8, 128)    0           bnc32a[0][0]                     \n",
            "__________________________________________________________________________________________________\n",
            "resc32b (Conv2D)                (None, 8, 8, 128)    147584      activation_16[0][0]              \n",
            "__________________________________________________________________________________________________\n",
            "bnc32b (BatchNormalization)     (None, 8, 8, 128)    512         resc32b[0][0]                    \n",
            "__________________________________________________________________________________________________\n",
            "activation_17 (Activation)      (None, 8, 8, 128)    0           bnc32b[0][0]                     \n",
            "__________________________________________________________________________________________________\n",
            "resc32c (Conv2D)                (None, 8, 8, 512)    66048       activation_17[0][0]              \n",
            "__________________________________________________________________________________________________\n",
            "bnc32c (BatchNormalization)     (None, 8, 8, 512)    2048        resc32c[0][0]                    \n",
            "__________________________________________________________________________________________________\n",
            "add_5 (Add)                     (None, 8, 8, 512)    0           bnc32c[0][0]                     \n",
            "                                                                 activation_15[0][0]              \n",
            "__________________________________________________________________________________________________\n",
            "activation_18 (Activation)      (None, 8, 8, 512)    0           add_5[0][0]                      \n",
            "__________________________________________________________________________________________________\n",
            "resd32a (Conv2D)                (None, 8, 8, 128)    65664       activation_18[0][0]              \n",
            "__________________________________________________________________________________________________\n",
            "bnd32a (BatchNormalization)     (None, 8, 8, 128)    512         resd32a[0][0]                    \n",
            "__________________________________________________________________________________________________\n",
            "activation_19 (Activation)      (None, 8, 8, 128)    0           bnd32a[0][0]                     \n",
            "__________________________________________________________________________________________________\n",
            "resd32b (Conv2D)                (None, 8, 8, 128)    147584      activation_19[0][0]              \n",
            "__________________________________________________________________________________________________\n",
            "bnd32b (BatchNormalization)     (None, 8, 8, 128)    512         resd32b[0][0]                    \n",
            "__________________________________________________________________________________________________\n",
            "activation_20 (Activation)      (None, 8, 8, 128)    0           bnd32b[0][0]                     \n",
            "__________________________________________________________________________________________________\n",
            "resd32c (Conv2D)                (None, 8, 8, 512)    66048       activation_20[0][0]              \n",
            "__________________________________________________________________________________________________\n",
            "bnd32c (BatchNormalization)     (None, 8, 8, 512)    2048        resd32c[0][0]                    \n",
            "__________________________________________________________________________________________________\n",
            "add_6 (Add)                     (None, 8, 8, 512)    0           bnd32c[0][0]                     \n",
            "                                                                 activation_18[0][0]              \n",
            "__________________________________________________________________________________________________\n",
            "activation_21 (Activation)      (None, 8, 8, 512)    0           add_6[0][0]                      \n",
            "__________________________________________________________________________________________________\n",
            "resa42a (Conv2D)                (None, 4, 4, 256)    131328      activation_21[0][0]              \n",
            "__________________________________________________________________________________________________\n",
            "bna42a (BatchNormalization)     (None, 4, 4, 256)    1024        resa42a[0][0]                    \n",
            "__________________________________________________________________________________________________\n",
            "activation_22 (Activation)      (None, 4, 4, 256)    0           bna42a[0][0]                     \n",
            "__________________________________________________________________________________________________\n",
            "resa42b (Conv2D)                (None, 4, 4, 256)    590080      activation_22[0][0]              \n",
            "__________________________________________________________________________________________________\n",
            "bna42b (BatchNormalization)     (None, 4, 4, 256)    1024        resa42b[0][0]                    \n",
            "__________________________________________________________________________________________________\n",
            "activation_23 (Activation)      (None, 4, 4, 256)    0           bna42b[0][0]                     \n",
            "__________________________________________________________________________________________________\n",
            "resa42c (Conv2D)                (None, 4, 4, 1024)   263168      activation_23[0][0]              \n",
            "__________________________________________________________________________________________________\n",
            "resa41 (Conv2D)                 (None, 4, 4, 1024)   525312      activation_21[0][0]              \n",
            "__________________________________________________________________________________________________\n",
            "bna42c (BatchNormalization)     (None, 4, 4, 1024)   4096        resa42c[0][0]                    \n",
            "__________________________________________________________________________________________________\n",
            "bna41 (BatchNormalization)      (None, 4, 4, 1024)   4096        resa41[0][0]                     \n",
            "__________________________________________________________________________________________________\n",
            "add_7 (Add)                     (None, 4, 4, 1024)   0           bna42c[0][0]                     \n",
            "                                                                 bna41[0][0]                      \n",
            "__________________________________________________________________________________________________\n",
            "activation_24 (Activation)      (None, 4, 4, 1024)   0           add_7[0][0]                      \n",
            "__________________________________________________________________________________________________\n",
            "res4b2a (Conv2D)                (None, 4, 4, 256)    262400      activation_24[0][0]              \n",
            "__________________________________________________________________________________________________\n",
            "bn4b2a (BatchNormalization)     (None, 4, 4, 256)    1024        res4b2a[0][0]                    \n",
            "__________________________________________________________________________________________________\n",
            "activation_25 (Activation)      (None, 4, 4, 256)    0           bn4b2a[0][0]                     \n",
            "__________________________________________________________________________________________________\n",
            "res4b2b (Conv2D)                (None, 4, 4, 256)    590080      activation_25[0][0]              \n",
            "__________________________________________________________________________________________________\n",
            "bn4b2b (BatchNormalization)     (None, 4, 4, 256)    1024        res4b2b[0][0]                    \n",
            "__________________________________________________________________________________________________\n",
            "activation_26 (Activation)      (None, 4, 4, 256)    0           bn4b2b[0][0]                     \n",
            "__________________________________________________________________________________________________\n",
            "res4b2c (Conv2D)                (None, 4, 4, 1024)   263168      activation_26[0][0]              \n",
            "__________________________________________________________________________________________________\n",
            "bn4b2c (BatchNormalization)     (None, 4, 4, 1024)   4096        res4b2c[0][0]                    \n",
            "__________________________________________________________________________________________________\n",
            "add_8 (Add)                     (None, 4, 4, 1024)   0           bn4b2c[0][0]                     \n",
            "                                                                 activation_24[0][0]              \n",
            "__________________________________________________________________________________________________\n",
            "activation_27 (Activation)      (None, 4, 4, 1024)   0           add_8[0][0]                      \n",
            "__________________________________________________________________________________________________\n",
            "res4c2a (Conv2D)                (None, 4, 4, 256)    262400      activation_27[0][0]              \n",
            "__________________________________________________________________________________________________\n",
            "bn4c2a (BatchNormalization)     (None, 4, 4, 256)    1024        res4c2a[0][0]                    \n",
            "__________________________________________________________________________________________________\n",
            "activation_28 (Activation)      (None, 4, 4, 256)    0           bn4c2a[0][0]                     \n",
            "__________________________________________________________________________________________________\n",
            "res4c2b (Conv2D)                (None, 4, 4, 256)    590080      activation_28[0][0]              \n",
            "__________________________________________________________________________________________________\n",
            "bn4c2b (BatchNormalization)     (None, 4, 4, 256)    1024        res4c2b[0][0]                    \n",
            "__________________________________________________________________________________________________\n",
            "activation_29 (Activation)      (None, 4, 4, 256)    0           bn4c2b[0][0]                     \n",
            "__________________________________________________________________________________________________\n",
            "res4c2c (Conv2D)                (None, 4, 4, 1024)   263168      activation_29[0][0]              \n",
            "__________________________________________________________________________________________________\n",
            "bn4c2c (BatchNormalization)     (None, 4, 4, 1024)   4096        res4c2c[0][0]                    \n",
            "__________________________________________________________________________________________________\n",
            "add_9 (Add)                     (None, 4, 4, 1024)   0           bn4c2c[0][0]                     \n",
            "                                                                 activation_27[0][0]              \n",
            "__________________________________________________________________________________________________\n",
            "activation_30 (Activation)      (None, 4, 4, 1024)   0           add_9[0][0]                      \n",
            "__________________________________________________________________________________________________\n",
            "res4d2a (Conv2D)                (None, 4, 4, 256)    262400      activation_30[0][0]              \n",
            "__________________________________________________________________________________________________\n",
            "bn4d2a (BatchNormalization)     (None, 4, 4, 256)    1024        res4d2a[0][0]                    \n",
            "__________________________________________________________________________________________________\n",
            "activation_31 (Activation)      (None, 4, 4, 256)    0           bn4d2a[0][0]                     \n",
            "__________________________________________________________________________________________________\n",
            "res4d2b (Conv2D)                (None, 4, 4, 256)    590080      activation_31[0][0]              \n",
            "__________________________________________________________________________________________________\n",
            "bn4d2b (BatchNormalization)     (None, 4, 4, 256)    1024        res4d2b[0][0]                    \n",
            "__________________________________________________________________________________________________\n",
            "activation_32 (Activation)      (None, 4, 4, 256)    0           bn4d2b[0][0]                     \n",
            "__________________________________________________________________________________________________\n",
            "res4d2c (Conv2D)                (None, 4, 4, 1024)   263168      activation_32[0][0]              \n",
            "__________________________________________________________________________________________________\n",
            "bn4d2c (BatchNormalization)     (None, 4, 4, 1024)   4096        res4d2c[0][0]                    \n",
            "__________________________________________________________________________________________________\n",
            "add_10 (Add)                    (None, 4, 4, 1024)   0           bn4d2c[0][0]                     \n",
            "                                                                 activation_30[0][0]              \n",
            "__________________________________________________________________________________________________\n",
            "activation_33 (Activation)      (None, 4, 4, 1024)   0           add_10[0][0]                     \n",
            "__________________________________________________________________________________________________\n",
            "res4e2a (Conv2D)                (None, 4, 4, 256)    262400      activation_33[0][0]              \n",
            "__________________________________________________________________________________________________\n",
            "bn4e2a (BatchNormalization)     (None, 4, 4, 256)    1024        res4e2a[0][0]                    \n",
            "__________________________________________________________________________________________________\n",
            "activation_34 (Activation)      (None, 4, 4, 256)    0           bn4e2a[0][0]                     \n",
            "__________________________________________________________________________________________________\n",
            "res4e2b (Conv2D)                (None, 4, 4, 256)    590080      activation_34[0][0]              \n",
            "__________________________________________________________________________________________________\n",
            "bn4e2b (BatchNormalization)     (None, 4, 4, 256)    1024        res4e2b[0][0]                    \n",
            "__________________________________________________________________________________________________\n",
            "activation_35 (Activation)      (None, 4, 4, 256)    0           bn4e2b[0][0]                     \n",
            "__________________________________________________________________________________________________\n",
            "res4e2c (Conv2D)                (None, 4, 4, 1024)   263168      activation_35[0][0]              \n",
            "__________________________________________________________________________________________________\n",
            "bn4e2c (BatchNormalization)     (None, 4, 4, 1024)   4096        res4e2c[0][0]                    \n",
            "__________________________________________________________________________________________________\n",
            "add_11 (Add)                    (None, 4, 4, 1024)   0           bn4e2c[0][0]                     \n",
            "                                                                 activation_33[0][0]              \n",
            "__________________________________________________________________________________________________\n",
            "activation_36 (Activation)      (None, 4, 4, 1024)   0           add_11[0][0]                     \n",
            "__________________________________________________________________________________________________\n",
            "res4f2a (Conv2D)                (None, 4, 4, 256)    262400      activation_36[0][0]              \n",
            "__________________________________________________________________________________________________\n",
            "bn4f2a (BatchNormalization)     (None, 4, 4, 256)    1024        res4f2a[0][0]                    \n",
            "__________________________________________________________________________________________________\n",
            "activation_37 (Activation)      (None, 4, 4, 256)    0           bn4f2a[0][0]                     \n",
            "__________________________________________________________________________________________________\n",
            "res4f2b (Conv2D)                (None, 4, 4, 256)    590080      activation_37[0][0]              \n",
            "__________________________________________________________________________________________________\n",
            "bn4f2b (BatchNormalization)     (None, 4, 4, 256)    1024        res4f2b[0][0]                    \n",
            "__________________________________________________________________________________________________\n",
            "activation_38 (Activation)      (None, 4, 4, 256)    0           bn4f2b[0][0]                     \n",
            "__________________________________________________________________________________________________\n",
            "res4f2c (Conv2D)                (None, 4, 4, 1024)   263168      activation_38[0][0]              \n",
            "__________________________________________________________________________________________________\n",
            "bn4f2c (BatchNormalization)     (None, 4, 4, 1024)   4096        res4f2c[0][0]                    \n",
            "__________________________________________________________________________________________________\n",
            "add_12 (Add)                    (None, 4, 4, 1024)   0           bn4f2c[0][0]                     \n",
            "                                                                 activation_36[0][0]              \n",
            "__________________________________________________________________________________________________\n",
            "activation_39 (Activation)      (None, 4, 4, 1024)   0           add_12[0][0]                     \n",
            "__________________________________________________________________________________________________\n",
            "res5a2a (Conv2D)                (None, 2, 2, 512)    524800      activation_39[0][0]              \n",
            "__________________________________________________________________________________________________\n",
            "bn5a2a (BatchNormalization)     (None, 2, 2, 512)    2048        res5a2a[0][0]                    \n",
            "__________________________________________________________________________________________________\n",
            "activation_40 (Activation)      (None, 2, 2, 512)    0           bn5a2a[0][0]                     \n",
            "__________________________________________________________________________________________________\n",
            "res5a2b (Conv2D)                (None, 2, 2, 512)    2359808     activation_40[0][0]              \n",
            "__________________________________________________________________________________________________\n",
            "bn5a2b (BatchNormalization)     (None, 2, 2, 512)    2048        res5a2b[0][0]                    \n",
            "__________________________________________________________________________________________________\n",
            "activation_41 (Activation)      (None, 2, 2, 512)    0           bn5a2b[0][0]                     \n",
            "__________________________________________________________________________________________________\n",
            "res5a2c (Conv2D)                (None, 2, 2, 2048)   1050624     activation_41[0][0]              \n",
            "__________________________________________________________________________________________________\n",
            "res5a1 (Conv2D)                 (None, 2, 2, 2048)   2099200     activation_39[0][0]              \n",
            "__________________________________________________________________________________________________\n",
            "bn5a2c (BatchNormalization)     (None, 2, 2, 2048)   8192        res5a2c[0][0]                    \n",
            "__________________________________________________________________________________________________\n",
            "bn5a1 (BatchNormalization)      (None, 2, 2, 2048)   8192        res5a1[0][0]                     \n",
            "__________________________________________________________________________________________________\n",
            "add_13 (Add)                    (None, 2, 2, 2048)   0           bn5a2c[0][0]                     \n",
            "                                                                 bn5a1[0][0]                      \n",
            "__________________________________________________________________________________________________\n",
            "activation_42 (Activation)      (None, 2, 2, 2048)   0           add_13[0][0]                     \n",
            "__________________________________________________________________________________________________\n",
            "res5b2a (Conv2D)                (None, 2, 2, 512)    1049088     activation_42[0][0]              \n",
            "__________________________________________________________________________________________________\n",
            "bn5b2a (BatchNormalization)     (None, 2, 2, 512)    2048        res5b2a[0][0]                    \n",
            "__________________________________________________________________________________________________\n",
            "activation_43 (Activation)      (None, 2, 2, 512)    0           bn5b2a[0][0]                     \n",
            "__________________________________________________________________________________________________\n",
            "res5b2b (Conv2D)                (None, 2, 2, 512)    2359808     activation_43[0][0]              \n",
            "__________________________________________________________________________________________________\n",
            "bn5b2b (BatchNormalization)     (None, 2, 2, 512)    2048        res5b2b[0][0]                    \n",
            "__________________________________________________________________________________________________\n",
            "activation_44 (Activation)      (None, 2, 2, 512)    0           bn5b2b[0][0]                     \n",
            "__________________________________________________________________________________________________\n",
            "res5b2c (Conv2D)                (None, 2, 2, 2048)   1050624     activation_44[0][0]              \n",
            "__________________________________________________________________________________________________\n",
            "bn5b2c (BatchNormalization)     (None, 2, 2, 2048)   8192        res5b2c[0][0]                    \n",
            "__________________________________________________________________________________________________\n",
            "add_14 (Add)                    (None, 2, 2, 2048)   0           bn5b2c[0][0]                     \n",
            "                                                                 activation_42[0][0]              \n",
            "__________________________________________________________________________________________________\n",
            "activation_45 (Activation)      (None, 2, 2, 2048)   0           add_14[0][0]                     \n",
            "__________________________________________________________________________________________________\n",
            "res5c2a (Conv2D)                (None, 2, 2, 512)    1049088     activation_45[0][0]              \n",
            "__________________________________________________________________________________________________\n",
            "bn5c2a (BatchNormalization)     (None, 2, 2, 512)    2048        res5c2a[0][0]                    \n",
            "__________________________________________________________________________________________________\n",
            "activation_46 (Activation)      (None, 2, 2, 512)    0           bn5c2a[0][0]                     \n",
            "__________________________________________________________________________________________________\n",
            "res5c2b (Conv2D)                (None, 2, 2, 512)    2359808     activation_46[0][0]              \n",
            "__________________________________________________________________________________________________\n",
            "bn5c2b (BatchNormalization)     (None, 2, 2, 512)    2048        res5c2b[0][0]                    \n",
            "__________________________________________________________________________________________________\n",
            "activation_47 (Activation)      (None, 2, 2, 512)    0           bn5c2b[0][0]                     \n",
            "__________________________________________________________________________________________________\n",
            "res5c2c (Conv2D)                (None, 2, 2, 2048)   1050624     activation_47[0][0]              \n",
            "__________________________________________________________________________________________________\n",
            "bn5c2c (BatchNormalization)     (None, 2, 2, 2048)   8192        res5c2c[0][0]                    \n",
            "__________________________________________________________________________________________________\n",
            "add_15 (Add)                    (None, 2, 2, 2048)   0           bn5c2c[0][0]                     \n",
            "                                                                 activation_45[0][0]              \n",
            "__________________________________________________________________________________________________\n",
            "activation_48 (Activation)      (None, 2, 2, 2048)   0           add_15[0][0]                     \n",
            "__________________________________________________________________________________________________\n",
            "avg_pool (AveragePooling2D)     (None, 1, 1, 2048)   0           activation_48[0][0]              \n",
            "__________________________________________________________________________________________________\n",
            "flatten (Flatten)               (None, 2048)         0           avg_pool[0][0]                   \n",
            "__________________________________________________________________________________________________\n",
            "fc10 (Dense)                    (None, 10)           20490       flatten[0][0]                    \n",
            "==================================================================================================\n",
            "Total params: 23,608,202\n",
            "Trainable params: 23,555,082\n",
            "Non-trainable params: 53,120\n",
            "__________________________________________________________________________________________________\n"
          ],
          "name": "stdout"
        }
      ]
    },
    {
      "cell_type": "markdown",
      "metadata": {
        "id": "7B1F5xsEuNBs"
      },
      "source": [
        "# Loading and Pre Processing\n",
        "\n",
        "Load the CIFAR10 dataset from keras and assign the variables to the data and labels. Pre process the images with data augmentation and Gaussian blur to improve edge detection.\n",
        " "
      ]
    },
    {
      "cell_type": "code",
      "metadata": {
        "id": "2575poEqwBxa"
      },
      "source": [
        "data=keras.datasets.cifar10"
      ],
      "execution_count": null,
      "outputs": []
    },
    {
      "cell_type": "code",
      "metadata": {
        "id": "a1ugK4btxHvr",
        "colab": {
          "base_uri": "https://localhost:8080/"
        },
        "outputId": "9b83840a-a983-42df-dc4c-468a4d2c3bce"
      },
      "source": [
        "(train_data,train_label),(test_data,test_label)=data.load_data()"
      ],
      "execution_count": null,
      "outputs": [
        {
          "output_type": "stream",
          "text": [
            "Downloading data from https://www.cs.toronto.edu/~kriz/cifar-10-python.tar.gz\n",
            "170500096/170498071 [==============================] - 4s 0us/step\n"
          ],
          "name": "stdout"
        }
      ]
    },
    {
      "cell_type": "code",
      "metadata": {
        "id": "OC-9xST5xUiP"
      },
      "source": [
        "train_label=tf.keras.utils.to_categorical(train_label)\n",
        "test_label=tf.keras.utils.to_categorical(test_label)"
      ],
      "execution_count": null,
      "outputs": []
    },
    {
      "cell_type": "code",
      "metadata": {
        "id": "oJIBEWeU91JS"
      },
      "source": [
        "train_data=train_data/255.0\n",
        "test_data=test_data/255.0"
      ],
      "execution_count": null,
      "outputs": []
    },
    {
      "cell_type": "code",
      "metadata": {
        "id": "P4FxHowHlNqz"
      },
      "source": [
        "tf.config.run_functions_eagerly(True)"
      ],
      "execution_count": null,
      "outputs": []
    },
    {
      "cell_type": "code",
      "metadata": {
        "id": "X6gwybYsUcMi"
      },
      "source": [
        "def image_processing1(images):\n",
        "    processed_images = []\n",
        "    for image in images: \n",
        "            image = image.astype('float32')  \n",
        "            resized_img = cv2.resize(image, dsize=(64, 64))\n",
        "            blurred_image=cv2.GaussianBlur(resized_img,(5,5),0)\n",
        "            processed_images.append(blurred_image)\n",
        "    return np.array(processed_images)\n"
      ],
      "execution_count": null,
      "outputs": []
    },
    {
      "cell_type": "code",
      "metadata": {
        "id": "i3i-vGdUllQC"
      },
      "source": [
        "train_data=image_processing1(train_data)\n",
        "test_data=image_processing1(test_data)"
      ],
      "execution_count": null,
      "outputs": []
    },
    {
      "cell_type": "code",
      "metadata": {
        "id": "Fi5eEReIx8i8"
      },
      "source": [
        "datagen = ImageDataGenerator(width_shift_range=0.1, height_shift_range=0.1, horizontal_flip=True)\n",
        "train = datagen.flow(train_data, train_label, batch_size=64)"
      ],
      "execution_count": null,
      "outputs": []
    },
    {
      "cell_type": "markdown",
      "metadata": {
        "id": "ZjDa9W-O-Lb_"
      },
      "source": [
        "# Fitting\n",
        "\n",
        "Fit the model with ImageDataGenerator which has been used for Data Augmentation and train the model for 25 epochs."
      ]
    },
    {
      "cell_type": "code",
      "metadata": {
        "id": "hMYFEJMil8al",
        "colab": {
          "base_uri": "https://localhost:8080/"
        },
        "outputId": "b8dd0b5c-a05e-4d3f-cde1-17f978f4a203"
      },
      "source": [
        "model1 = model.fit(train, epochs = 60, validation_data=(test_data,test_label))"
      ],
      "execution_count": null,
      "outputs": [
        {
          "output_type": "stream",
          "text": [
            "/usr/local/lib/python3.6/dist-packages/tensorflow/python/data/ops/dataset_ops.py:3504: UserWarning: Even though the tf.config.experimental_run_functions_eagerly option is set, this option does not apply to tf.data functions. tf.data functions are still traced and executed as graphs.\n",
            "  \"Even though the tf.config.experimental_run_functions_eagerly \"\n"
          ],
          "name": "stderr"
        },
        {
          "output_type": "stream",
          "text": [
            "Epoch 1/60\n",
            "782/782 [==============================] - 171s 217ms/step - loss: 2.4093 - accuracy: 0.3013 - val_loss: 2.0269 - val_accuracy: 0.2952\n",
            "Epoch 2/60\n",
            "782/782 [==============================] - 171s 218ms/step - loss: 1.4941 - accuracy: 0.4833 - val_loss: 102.8753 - val_accuracy: 0.0960\n",
            "Epoch 3/60\n",
            "782/782 [==============================] - 170s 217ms/step - loss: 1.4868 - accuracy: 0.4903 - val_loss: 2.1102 - val_accuracy: 0.4837\n",
            "Epoch 4/60\n",
            "782/782 [==============================] - 170s 217ms/step - loss: 1.5266 - accuracy: 0.4820 - val_loss: 2.2025 - val_accuracy: 0.3054\n",
            "Epoch 5/60\n",
            "782/782 [==============================] - 170s 218ms/step - loss: 1.5733 - accuracy: 0.4669 - val_loss: 1.7797 - val_accuracy: 0.3984\n",
            "Epoch 6/60\n",
            "782/782 [==============================] - 170s 217ms/step - loss: 1.3218 - accuracy: 0.5436 - val_loss: 1.8927 - val_accuracy: 0.3244\n",
            "Epoch 7/60\n",
            "782/782 [==============================] - 171s 218ms/step - loss: 1.5393 - accuracy: 0.4771 - val_loss: 1.7989 - val_accuracy: 0.3594\n",
            "Epoch 8/60\n",
            "782/782 [==============================] - 170s 218ms/step - loss: 1.3573 - accuracy: 0.5372 - val_loss: 48.9870 - val_accuracy: 0.3434\n",
            "Epoch 9/60\n",
            "782/782 [==============================] - 171s 218ms/step - loss: 1.2473 - accuracy: 0.5684 - val_loss: 1.4200 - val_accuracy: 0.4952\n",
            "Epoch 10/60\n",
            "782/782 [==============================] - 170s 217ms/step - loss: 1.1562 - accuracy: 0.6009 - val_loss: 1.6619 - val_accuracy: 0.4755\n",
            "Epoch 11/60\n",
            "782/782 [==============================] - 170s 217ms/step - loss: 1.1630 - accuracy: 0.5923 - val_loss: 1.0404 - val_accuracy: 0.6517\n",
            "Epoch 12/60\n",
            "782/782 [==============================] - 170s 217ms/step - loss: 1.0557 - accuracy: 0.6336 - val_loss: 0.9538 - val_accuracy: 0.6686\n",
            "Epoch 13/60\n",
            "782/782 [==============================] - 170s 217ms/step - loss: 0.9554 - accuracy: 0.6658 - val_loss: 0.8965 - val_accuracy: 0.6879\n",
            "Epoch 14/60\n",
            "782/782 [==============================] - 169s 216ms/step - loss: 0.9076 - accuracy: 0.6848 - val_loss: 0.8946 - val_accuracy: 0.6856\n",
            "Epoch 15/60\n",
            "782/782 [==============================] - 169s 216ms/step - loss: 0.8305 - accuracy: 0.7097 - val_loss: 0.9476 - val_accuracy: 0.6800\n",
            "Epoch 16/60\n",
            "782/782 [==============================] - 170s 217ms/step - loss: 0.9080 - accuracy: 0.6893 - val_loss: 1.3010 - val_accuracy: 0.5895\n",
            "Epoch 17/60\n",
            "782/782 [==============================] - 171s 219ms/step - loss: 0.7765 - accuracy: 0.7291 - val_loss: 210.3542 - val_accuracy: 0.0840\n",
            "Epoch 18/60\n",
            "782/782 [==============================] - 170s 218ms/step - loss: 1.1831 - accuracy: 0.5896 - val_loss: 1.2122 - val_accuracy: 0.5973\n",
            "Epoch 19/60\n",
            "782/782 [==============================] - 169s 216ms/step - loss: 0.8197 - accuracy: 0.7157 - val_loss: 0.8156 - val_accuracy: 0.7225\n",
            "Epoch 20/60\n",
            "782/782 [==============================] - 170s 218ms/step - loss: 0.7182 - accuracy: 0.7517 - val_loss: 0.7931 - val_accuracy: 0.7269\n",
            "Epoch 21/60\n",
            "782/782 [==============================] - 171s 218ms/step - loss: 0.7210 - accuracy: 0.7514 - val_loss: 0.7523 - val_accuracy: 0.7384\n",
            "Epoch 22/60\n",
            "782/782 [==============================] - 169s 216ms/step - loss: 0.6584 - accuracy: 0.7684 - val_loss: 0.8555 - val_accuracy: 0.7090\n",
            "Epoch 23/60\n",
            "782/782 [==============================] - 169s 216ms/step - loss: 0.6326 - accuracy: 0.7791 - val_loss: 0.7552 - val_accuracy: 0.7385\n",
            "Epoch 24/60\n",
            "782/782 [==============================] - 170s 217ms/step - loss: 0.6076 - accuracy: 0.7870 - val_loss: 0.7123 - val_accuracy: 0.7581\n",
            "Epoch 25/60\n",
            "782/782 [==============================] - 169s 216ms/step - loss: 0.5877 - accuracy: 0.7940 - val_loss: 0.6753 - val_accuracy: 0.7652\n",
            "Epoch 26/60\n",
            "782/782 [==============================] - 169s 217ms/step - loss: 0.6165 - accuracy: 0.7852 - val_loss: 0.8063 - val_accuracy: 0.7267\n",
            "Epoch 27/60\n",
            "782/782 [==============================] - 169s 216ms/step - loss: 0.5226 - accuracy: 0.8138 - val_loss: 0.7560 - val_accuracy: 0.7553\n",
            "Epoch 28/60\n",
            "782/782 [==============================] - 170s 217ms/step - loss: 0.5147 - accuracy: 0.8217 - val_loss: 0.6503 - val_accuracy: 0.7780\n",
            "Epoch 29/60\n",
            "782/782 [==============================] - 169s 216ms/step - loss: 0.4611 - accuracy: 0.8399 - val_loss: 0.7658 - val_accuracy: 0.7477\n",
            "Epoch 30/60\n",
            "782/782 [==============================] - 171s 218ms/step - loss: 0.5422 - accuracy: 0.8103 - val_loss: 0.6665 - val_accuracy: 0.7745\n",
            "Epoch 31/60\n",
            "782/782 [==============================] - 170s 218ms/step - loss: 0.4200 - accuracy: 0.8530 - val_loss: 0.6587 - val_accuracy: 0.7842\n",
            "Epoch 32/60\n",
            "782/782 [==============================] - 168s 215ms/step - loss: 0.4142 - accuracy: 0.8569 - val_loss: 0.8309 - val_accuracy: 0.7447\n",
            "Epoch 33/60\n",
            "782/782 [==============================] - 168s 214ms/step - loss: 0.4091 - accuracy: 0.8579 - val_loss: 0.7780 - val_accuracy: 0.7420\n",
            "Epoch 34/60\n",
            "782/782 [==============================] - 170s 218ms/step - loss: 0.3744 - accuracy: 0.8677 - val_loss: 0.6798 - val_accuracy: 0.7876\n",
            "Epoch 35/60\n",
            "782/782 [==============================] - 170s 217ms/step - loss: 0.3457 - accuracy: 0.8785 - val_loss: 0.6781 - val_accuracy: 0.7850\n",
            "Epoch 36/60\n",
            "782/782 [==============================] - 168s 215ms/step - loss: 0.3275 - accuracy: 0.8839 - val_loss: 0.5703 - val_accuracy: 0.8151\n",
            "Epoch 37/60\n",
            "782/782 [==============================] - 169s 215ms/step - loss: 0.3035 - accuracy: 0.8923 - val_loss: 0.5815 - val_accuracy: 0.8141\n",
            "Epoch 38/60\n",
            "782/782 [==============================] - 170s 217ms/step - loss: 0.2881 - accuracy: 0.8972 - val_loss: 0.6848 - val_accuracy: 0.7856\n",
            "Epoch 39/60\n",
            "782/782 [==============================] - 169s 217ms/step - loss: 0.2831 - accuracy: 0.8991 - val_loss: 1.1066 - val_accuracy: 0.6728\n",
            "Epoch 40/60\n",
            "782/782 [==============================] - 170s 218ms/step - loss: 0.4605 - accuracy: 0.8474 - val_loss: 0.6140 - val_accuracy: 0.8104\n",
            "Epoch 41/60\n",
            "782/782 [==============================] - 171s 218ms/step - loss: 0.2787 - accuracy: 0.9018 - val_loss: 0.6297 - val_accuracy: 0.8129\n",
            "Epoch 42/60\n",
            "782/782 [==============================] - 168s 215ms/step - loss: 0.2479 - accuracy: 0.9139 - val_loss: 0.6489 - val_accuracy: 0.8115\n",
            "Epoch 43/60\n",
            "782/782 [==============================] - 168s 214ms/step - loss: 0.2283 - accuracy: 0.9199 - val_loss: 0.6793 - val_accuracy: 0.8081\n",
            "Epoch 44/60\n",
            "782/782 [==============================] - 170s 217ms/step - loss: 0.2126 - accuracy: 0.9261 - val_loss: 0.6342 - val_accuracy: 0.8115\n",
            "Epoch 45/60\n",
            "782/782 [==============================] - 170s 217ms/step - loss: 0.2040 - accuracy: 0.9296 - val_loss: 0.7729 - val_accuracy: 0.7860\n",
            "Epoch 46/60\n",
            "782/782 [==============================] - 170s 217ms/step - loss: 0.1987 - accuracy: 0.9300 - val_loss: 0.8319 - val_accuracy: 0.7872\n",
            "Epoch 47/60\n",
            "782/782 [==============================] - 170s 217ms/step - loss: 0.1959 - accuracy: 0.9306 - val_loss: 0.9843 - val_accuracy: 0.7413\n",
            "Epoch 48/60\n",
            "782/782 [==============================] - 170s 217ms/step - loss: 0.1845 - accuracy: 0.9370 - val_loss: 0.6909 - val_accuracy: 0.8082\n",
            "Epoch 49/60\n",
            "782/782 [==============================] - 168s 215ms/step - loss: 0.1884 - accuracy: 0.9334 - val_loss: 0.9718 - val_accuracy: 0.7511\n",
            "Epoch 50/60\n",
            "782/782 [==============================] - 169s 216ms/step - loss: 0.1679 - accuracy: 0.9421 - val_loss: 1.2649 - val_accuracy: 0.7212\n",
            "Epoch 51/60\n",
            "782/782 [==============================] - 170s 217ms/step - loss: 0.1565 - accuracy: 0.9439 - val_loss: 0.7405 - val_accuracy: 0.8028\n",
            "Epoch 52/60\n",
            "782/782 [==============================] - 169s 216ms/step - loss: 0.1470 - accuracy: 0.9493 - val_loss: 0.7534 - val_accuracy: 0.7947\n",
            "Epoch 53/60\n",
            "782/782 [==============================] - 168s 215ms/step - loss: 0.1389 - accuracy: 0.9513 - val_loss: 0.8826 - val_accuracy: 0.7704\n",
            "Epoch 54/60\n",
            "782/782 [==============================] - 170s 217ms/step - loss: 0.1493 - accuracy: 0.9473 - val_loss: 0.7549 - val_accuracy: 0.8051\n",
            "Epoch 55/60\n",
            "782/782 [==============================] - 171s 218ms/step - loss: 0.1358 - accuracy: 0.9525 - val_loss: 0.6791 - val_accuracy: 0.8222\n",
            "Epoch 56/60\n",
            "782/782 [==============================] - 169s 216ms/step - loss: 0.1239 - accuracy: 0.9565 - val_loss: 0.6921 - val_accuracy: 0.8301\n",
            "Epoch 57/60\n",
            "782/782 [==============================] - 169s 216ms/step - loss: 0.1190 - accuracy: 0.9581 - val_loss: 1.0277 - val_accuracy: 0.7550\n",
            "Epoch 58/60\n",
            "782/782 [==============================] - 169s 216ms/step - loss: 0.1189 - accuracy: 0.9579 - val_loss: 0.7945 - val_accuracy: 0.8035\n",
            "Epoch 59/60\n",
            "782/782 [==============================] - 169s 217ms/step - loss: 0.1156 - accuracy: 0.9603 - val_loss: 0.7494 - val_accuracy: 0.8246\n",
            "Epoch 60/60\n",
            "782/782 [==============================] - 168s 214ms/step - loss: 0.1144 - accuracy: 0.9599 - val_loss: 1.4676 - val_accuracy: 0.6693\n"
          ],
          "name": "stdout"
        }
      ]
    },
    {
      "cell_type": "code",
      "metadata": {
        "id": "In9njr-8eojZ",
        "colab": {
          "base_uri": "https://localhost:8080/",
          "height": 573
        },
        "outputId": "27577937-7a10-4143-98b8-3fb95a4eb007"
      },
      "source": [
        "plt.plot(model1.history['accuracy'])\n",
        "plt.plot(model1.history['val_accuracy'])\n",
        "plt.title('Model1 Accuracy')\n",
        "plt.ylabel('Accuracy')\n",
        "plt.xlabel('Epoch')\n",
        "plt.legend(['train','test'],loc='upper left')\n",
        "plt.show()\n",
        "plt.plot(model1.history['loss'])\n",
        "plt.plot(model1.history['val_loss'])\n",
        "plt.title('Model1 Loss')\n",
        "plt.ylabel('loss')\n",
        "plt.xlabel('Epoch')\n",
        "plt.legend(['train','test'],loc='upper left')\n",
        "plt.show()"
      ],
      "execution_count": null,
      "outputs": [
        {
          "output_type": "display_data",
          "data": {
            "image/png": "[encoded data removed]",
            "text/plain": [
              "<Figure size 432x288 with 1 Axes>"
            ]
          },
          "metadata": {
            "tags": [],
            "needs_background": "light"
          }
        },
        {
          "output_type": "display_data",
          "data": {
            "image/png": "[encoded data removed]",
            "text/plain": [
              "<Figure size 432x288 with 1 Axes>"
            ]
          },
          "metadata": {
            "tags": [],
            "needs_background": "light"
          }
        }
      ]
    },
    {
      "cell_type": "code",
      "metadata": {
        "id": "3-ZJGOFwXJ-r"
      },
      "source": [
        "model.save('model.h5')"
      ],
      "execution_count": null,
      "outputs": []
    }
  ]
}